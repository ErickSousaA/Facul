{
 "cells": [
  {
   "cell_type": "markdown",
   "metadata": {
    "collapsed": false
   },
   "source": [
    "Erick de Sousa Almeida - Bi3008444\n",
    "<br>\n",
    "\n",
    "<center>\n",
    "\n",
    "# Atividades - Segmentação Parte 1\n",
    "\n",
    "<center>"
   ]
  },
  {
   "cell_type": "markdown",
   "metadata": {
    "collapsed": false
   },
   "source": [
    "# 1.\n",
    "Implementar limiarização, definir"
   ]
  },
  {
   "cell_type": "code",
   "execution_count": 1,
   "metadata": {
    "ExecuteTime": {
     "end_time": "2023-10-16T17:43:20.726672400Z",
     "start_time": "2023-10-16T17:43:20.536956800Z"
    },
    "collapsed": false
   },
   "outputs": [],
   "source": [
    "import os\n",
    "\n",
    "import cv2\n",
    "import numpy as np"
   ]
  },
  {
   "cell_type": "markdown",
   "metadata": {
    "collapsed": false
   },
   "source": [
    "A limiarização é uma técnica de segmentação de imagens que consiste em separar os píxeis de uma imagem em dois grupos: pixels que possuem intensidade maior que um limiar pré-definido e píxeis que possuem intensidade menor que o limiar."
   ]
  },
  {
   "cell_type": "code",
   "execution_count": 2,
   "metadata": {
    "ExecuteTime": {
     "end_time": "2023-10-16T17:43:20.733251900Z",
     "start_time": "2023-10-16T17:43:20.726672400Z"
    },
    "collapsed": false
   },
   "outputs": [],
   "source": [
    "def thresholding(img, limiar):\n",
    "    img_out = np.zeros(img.shape)\n",
    "    for i in range(img.shape[0]):\n",
    "        for j in range(img.shape[1]):\n",
    "            if img[i, j] > limiar:\n",
    "                img_out[i, j] = 255\n",
    "            else:\n",
    "                img_out[i, j] = 0\n",
    "    return img_out\n",
    "\n"
   ]
  },
  {
   "cell_type": "markdown",
   "metadata": {
    "collapsed": false
   },
   "source": [
    "# 2.\n",
    "Implementar detector de bordas Canny, e aplica o filtro de borramento(filtro gaussiano) e verificar se o borramento melhora a detecção de bordas."
   ]
  },
  {
   "cell_type": "markdown",
   "metadata": {
    "collapsed": false
   },
   "source": [
    "O detector de bordas Canny é um dos mais utilizados na literatura. Ele é composto por 4 etapas:\n",
    "\n",
    "1. Suavização da imagem com um filtro gaussiano\n",
    "2. Cálculo do gradiente da imagem\n",
    "3. Supressão de não-máximos\n",
    "4. Limiarização com histerese\n",
    "\n",
    "Seguida da detecção das bordas."
   ]
  },
  {
   "cell_type": "code",
   "execution_count": 3,
   "metadata": {
    "ExecuteTime": {
     "end_time": "2023-10-16T17:43:20.738386700Z",
     "start_time": "2023-10-16T17:43:20.737878400Z"
    },
    "collapsed": false
   },
   "outputs": [],
   "source": [
    "def canny(img, sigma=0.33, t1=0.1, t2=0.2):\n",
    "    # 1. Suavização da imagem com um filtro gaussiano\n",
    "    img = gaussian_blur(img, 5)\n",
    "    # 2. Cálculo do gradiente da imagem\n",
    "    img = cv2.Canny(img, int(t1 * 255), int(t2 * 255))\n",
    "    return img"
   ]
  },
  {
   "cell_type": "code",
   "execution_count": null,
   "metadata": {
    "collapsed": false
   },
   "outputs": [],
   "source": [
    "def gaussian_blur(img, kernel_size=5):\n",
    "    return cv2.GaussianBlur(img, (kernel_size, kernel_size), 0)"
   ]
  },
  {
   "cell_type": "markdown",
   "metadata": {
    "collapsed": false
   },
   "source": [
    "# 2.1\n",
    "Mudar os parâmetros T1 e T2 e avaliar a qualidade das bordas detectadas."
   ]
  },
  {
   "cell_type": "code",
   "execution_count": null,
   "metadata": {
    "collapsed": false
   },
   "outputs": [],
   "source": [
    "params = [(0.1, 0.2), (0.2, 0.3), (0.3, 0.4), (0.4, 0.5), (0.5, 0.6)]\n",
    "images_names = os.listdir('images')\n",
    "images = [cv2.imread('images/' + name, 0) for name in images_names]\n",
    "images = [canny(img, t1=t1, t2=t2) for img in images for t1, t2 in params]\n",
    "\n",
    "for i in range(len(images)):\n",
    "    cv2.imwrite('results/' + images_names[i // len(params)] + '_' + str(i % len(params)) + '.png', images[i])"
   ]
  }
 ],
 "metadata": {
  "kernelspec": {
   "display_name": "Python 3",
   "language": "python",
   "name": "python3"
  },
  "language_info": {
   "codemirror_mode": {
    "name": "ipython",
    "version": 2
   },
   "file_extension": ".py",
   "mimetype": "text/x-python",
   "name": "python",
   "nbconvert_exporter": "python",
   "pygments_lexer": "ipython2",
   "version": "2.7.6"
  }
 },
 "nbformat": 4,
 "nbformat_minor": 0
}
